{
  "nbformat": 4,
  "nbformat_minor": 0,
  "metadata": {
    "kernelspec": {
      "display_name": "Python 3",
      "name": "python3"
    },
    "language_info": {
      "codemirror_mode": {
        "name": "ipython",
        "version": 3
      },
      "file_extension": ".py",
      "mimetype": "text/x-python",
      "name": "python",
      "nbconvert_exporter": "python",
      "pygments_lexer": "ipython3",
      "version": "3.7.7"
    },
    "colab": {
      "provenance": [],
      "include_colab_link": true
    }
  },
  "cells": [
    {
      "cell_type": "markdown",
      "metadata": {
        "id": "view-in-github",
        "colab_type": "text"
      },
      "source": [
        "<a href=\"https://colab.research.google.com/github/Adrian10181/CPE411/blob/main/CPE411_Pre_Lab_Python_Challenge.ipynb\" target=\"_parent\"><img src=\"https://colab.research.google.com/assets/colab-badge.svg\" alt=\"Open In Colab\"/></a>"
      ]
    },
    {
      "cell_type": "markdown",
      "metadata": {
        "id": "WUQHSYAH8A15"
      },
      "source": [
        "\n",
        "| <h1> Activity 1.1 </h1> | <h1> Python Challenge </h1> |\n",
        "|--- | --- |\n",
        "Name: <br>\n",
        "Course and Section: CPE019S3 <br>\n",
        "Date Submitted: <br>\n",
        "Instructor:\n",
        "Date Performed:\n",
        "Date Submitted\n",
        "\n",
        "<hr>\n",
        "\n",
        "**Instructions**: Answer the questions or complete the tasks outlined below, use the specific method described if applicable. Insert a code cell after each text cell.\n",
        "\n",
        "**Objectives:**\n",
        "- Test understanding of Python basics\n",
        "- Review Python basic to intermediate commands\n",
        "\n",
        "<hr>"
      ]
    },
    {
      "cell_type": "markdown",
      "metadata": {
        "id": "-7dT6HEt8A1_"
      },
      "source": [
        "1. What is 3 to the power of 5?"
      ]
    },
    {
      "cell_type": "code",
      "source": [
        "3**5"
      ],
      "metadata": {
        "id": "CiAIi_wlM23B",
        "colab": {
          "base_uri": "https://localhost:8080/"
        },
        "outputId": "9e82d4b4-df2e-48af-e6ea-359f1b447771"
      },
      "execution_count": null,
      "outputs": [
        {
          "output_type": "execute_result",
          "data": {
            "text/plain": [
              "243"
            ]
          },
          "metadata": {},
          "execution_count": 1
        }
      ]
    },
    {
      "cell_type": "markdown",
      "metadata": {
        "id": "TpUg2QaM8A2C"
      },
      "source": [
        "2.  Create a variable, s, containing the string \"This course is amazing!\". Using the variable, split the string into a list."
      ]
    },
    {
      "cell_type": "code",
      "source": [
        "s = [\"This course is amazing\"]\n",
        "words = s[0].split()\n",
        "for word in words:\n",
        "  print(f\"- {word}\")"
      ],
      "metadata": {
        "colab": {
          "base_uri": "https://localhost:8080/"
        },
        "id": "tIXgET63JCL8",
        "outputId": "1a6f9140-a8d7-4608-a358-506edae0fc86"
      },
      "execution_count": 16,
      "outputs": [
        {
          "output_type": "stream",
          "name": "stdout",
          "text": [
            "- This\n",
            "- course\n",
            "- is\n",
            "- amazing\n"
          ]
        }
      ]
    },
    {
      "cell_type": "markdown",
      "metadata": {
        "id": "B3yPY5pD8A2D"
      },
      "source": [
        "3.  Given the variables height and mountain, use .format() to print the following string:\n",
        "`The height of Mt. Everest is 8848 meters.`"
      ]
    },
    {
      "cell_type": "code",
      "source": [
        "height = 8848\n",
        "mountain = \"Mt. Everest\"\n",
        "\n",
        "print(\"The height of {} is {} meters\".format(mountain, height))"
      ],
      "metadata": {
        "id": "AEUyAat6LgfC",
        "colab": {
          "base_uri": "https://localhost:8080/"
        },
        "outputId": "6176a37a-b05f-41d9-881e-ed492d12e2d7"
      },
      "execution_count": 17,
      "outputs": [
        {
          "output_type": "stream",
          "name": "stdout",
          "text": [
            "The height of Mt. Everest is 8848 meters\n"
          ]
        }
      ]
    },
    {
      "cell_type": "markdown",
      "metadata": {
        "id": "WPFy00ne8A2F"
      },
      "source": [
        "4. Given the following nested list, use indexing to grab the word \"this\".\n",
        "\n",
        "```\n",
        "lst = ['a','b',[4,10,11],['c',[1,66,['this']],2,111],'e',7]\n",
        "```"
      ]
    },
    {
      "cell_type": "code",
      "source": [
        "lst = ['a','b',[4,10,11],['c',[1,66,['this']],2,111],'e',7]\n",
        "nested_list = lst[3][1][2][0]\n",
        "print(nested_list)"
      ],
      "metadata": {
        "id": "1kW7zHfjJvWC",
        "outputId": "82f34d64-20bf-4a78-f2f2-3a1119407ef8",
        "colab": {
          "base_uri": "https://localhost:8080/"
        }
      },
      "execution_count": 21,
      "outputs": [
        {
          "output_type": "stream",
          "name": "stdout",
          "text": [
            "this\n"
          ]
        }
      ]
    },
    {
      "cell_type": "markdown",
      "metadata": {
        "id": "cUA9kmWi8A2H"
      },
      "source": [
        "5. Given the following nested dictionary, grab the word \"that\". This exercise is a little more difficult.\n",
        "```\n",
        "d = {'k1':['val1','val2','val3',{'we':['need','to','go',{'deeper':[1,2,3,'that']}]}]}\n",
        "```"
      ]
    },
    {
      "cell_type": "code",
      "source": [
        "d = {'k1':['val1','val2','val3',{'we':['need','to','go',{'deeper':[1,2,3,'that']}]}]}\n",
        "nested_list = d['k1'][3]['we'][3]['deeper'][3]\n",
        "print(nested_list)"
      ],
      "metadata": {
        "id": "Qk1nePu6Lh67",
        "outputId": "9ee2dfac-4e59-44ee-a7f1-8916f6b25f01",
        "colab": {
          "base_uri": "https://localhost:8080/"
        }
      },
      "execution_count": 30,
      "outputs": [
        {
          "output_type": "stream",
          "name": "stdout",
          "text": [
            "that\n"
          ]
        }
      ]
    },
    {
      "cell_type": "markdown",
      "metadata": {
        "id": "-WrAu-KK8A2I"
      },
      "source": [
        "6. Create a function, GetDomain(), that grabs the email website domain from a string in the form: user@domain.com.\n",
        "So for example, passing \"user@domain.com\" would return: domain.com"
      ]
    },
    {
      "cell_type": "code",
      "source": [
        "stringSample = \"user@domain.com\"\n",
        "extension = stringSample.split(\"@\")\n",
        "print(extension[1])"
      ],
      "metadata": {
        "colab": {
          "base_uri": "https://localhost:8080/"
        },
        "id": "ouK41_zIKVkx",
        "outputId": "252ac0ab-b21e-419a-8b63-2c36ff1f1c61"
      },
      "execution_count": 34,
      "outputs": [
        {
          "output_type": "stream",
          "name": "stdout",
          "text": [
            "domain.com\n"
          ]
        }
      ]
    },
    {
      "cell_type": "markdown",
      "metadata": {
        "id": "Fx4DIIz18A2K"
      },
      "source": [
        "7. Create a basic function, findInternet(), that returns True if the word 'Internet' is contained in the input string. Don't worry about edge cases like punctuation being attached to the word, but account for capitalization. (Hint: Please see https://docs.python.org/2/reference/expressions.html#in)"
      ]
    },
    {
      "cell_type": "code",
      "source": [
        "def findInternet(stringSample):\n",
        "  return \"internet\" in stringSample.lower()\n",
        "print(findInternet(\"I love internet\"))\n"
      ],
      "metadata": {
        "colab": {
          "base_uri": "https://localhost:8080/"
        },
        "id": "_SbyN4XNLSBh",
        "outputId": "a83eeb7c-c1af-4d7b-bd4d-05f033c1b4a9"
      },
      "execution_count": 48,
      "outputs": [
        {
          "output_type": "stream",
          "name": "stdout",
          "text": [
            "True\n"
          ]
        }
      ]
    },
    {
      "cell_type": "markdown",
      "metadata": {
        "id": "4pPortmo8A2M"
      },
      "source": [
        "8. Create a function, countIoT(), that counts the number of times the word \"IoT\" occurs in a string. Ignore edge cases but take into account capitalization."
      ]
    },
    {
      "cell_type": "code",
      "source": [
        "sampleString = \"Walang iot dito\"\n",
        "\n",
        "for i in sampleString.split():\n",
        "  if i.lower() == \"iot\":\n",
        "    print(\"May iot\")"
      ],
      "metadata": {
        "colab": {
          "base_uri": "https://localhost:8080/"
        },
        "id": "kxIxSrrWMAIk",
        "outputId": "7275350e-7d8d-45e0-a6e3-7dec4ea1eb6d"
      },
      "execution_count": null,
      "outputs": [
        {
          "output_type": "stream",
          "name": "stdout",
          "text": [
            "May iot\n"
          ]
        }
      ]
    },
    {
      "cell_type": "code",
      "source": [
        "def countIoT(stringInput):\n",
        "  iotCount = 0\n",
        "\n",
        "  for i in stringInput.split():\n",
        "    if i.lower() == \"iot\":\n",
        "      iotCount = iotCount + 1\n",
        "\n",
        "  return iotCount\n",
        "\n",
        "countIoT(\"iot iot iot iot iot iot\")"
      ],
      "metadata": {
        "id": "WpiXr1LhLjBN",
        "colab": {
          "base_uri": "https://localhost:8080/"
        },
        "outputId": "84551352-bb0a-4238-c003-beeeacca13ff"
      },
      "execution_count": null,
      "outputs": [
        {
          "output_type": "execute_result",
          "data": {
            "text/plain": [
              "6"
            ]
          },
          "metadata": {},
          "execution_count": 7
        }
      ]
    },
    {
      "cell_type": "markdown",
      "metadata": {
        "id": "Hg-mqSUd8A2O"
      },
      "source": [
        "9. Use lambda expressions and the filter() function to filter out words from a list that do not start with the letter 'd'. For example:\n",
        "```\n",
        "seq = ['data','salt' ,'dairy','cat', 'dog']\n",
        "```\n",
        "should be filtered down to:\n",
        "```\n",
        "['data', 'dairy', 'dog']\n",
        "```"
      ]
    },
    {
      "cell_type": "code",
      "source": [
        "seq = ['data', 'salt', 'dairy', 'cat', 'dog']\n",
        "\n",
        "filtered_seq = list(filter(lambda word: word.startswith('d'), seq))\n",
        "\n",
        "print(filtered_seq)"
      ],
      "metadata": {
        "id": "KhMmFEFclQ9d",
        "outputId": "3c27d65e-44c4-4e62-aeeb-9970925ff846",
        "colab": {
          "base_uri": "https://localhost:8080/"
        }
      },
      "execution_count": 52,
      "outputs": [
        {
          "output_type": "stream",
          "name": "stdout",
          "text": [
            "['data', 'dairy', 'dog']\n"
          ]
        }
      ]
    },
    {
      "cell_type": "markdown",
      "metadata": {
        "id": "i5HTJZtM8A2O"
      },
      "source": [
        "10. Use lambda expressions and the map() function to convert a list of words to upper case. For example:\n",
        "```\n",
        "seq = ['data','salt' ,'dairy','cat', 'dog']\n",
        "```\n",
        "should become:\n",
        "```\n",
        "['DATA', 'SALT', 'DAIRY', 'CAT', 'DOG']\n",
        "```"
      ]
    },
    {
      "cell_type": "code",
      "source": [
        "seq = ['data','salt' ,'dairy','cat', 'dog']\n",
        "\n",
        "map_seq = list(map(lambda word: word.upper(),seq))\n",
        "print(map_seq)"
      ],
      "metadata": {
        "id": "yF7YxT0QLkJ5",
        "outputId": "27788579-f6b1-4f34-cbce-3bf6ea169014",
        "colab": {
          "base_uri": "https://localhost:8080/"
        }
      },
      "execution_count": 55,
      "outputs": [
        {
          "output_type": "stream",
          "name": "stdout",
          "text": [
            "['DATA', 'SALT', 'DAIRY', 'CAT', 'DOG']\n"
          ]
        }
      ]
    },
    {
      "cell_type": "markdown",
      "metadata": {
        "id": "1t6lwmWv8A2Q"
      },
      "source": [
        "11. Imagine a smart thermostat that is connected to the door, so that it can detect, in addition to the temperature, when people enter or leave the house. <br><br>Write a function that, if the temperature is lower than 20 degrees Celsius, and there are people in the house (encoded as a boolean value to be passed as a parameter to the function), turns on the heating by returning the string \"Heating on\". When the temperature reaches 23 degrees or there are no people in the house, it returns the string \"Heating off\". When none of these conditions are met, the function returns \"Do nothing\"."
      ]
    },
    {
      "cell_type": "code",
      "source": [
        "def smart_thermostat(temperature, people_inside):\n",
        "  if temperature <20 and people_inside:\n",
        "    return \"Heating On\"\n",
        "  elif temperature >=23 or not people_inside:\n",
        "    return \"Heating Off\"\n",
        "  else:\n",
        "    return \"Do Nothing\"\n",
        "\n",
        "print(smart_thermostat(24,True))"
      ],
      "metadata": {
        "id": "R3scWYwqLkxu",
        "outputId": "758e5bda-1fea-4ea6-faa8-e56912275064",
        "colab": {
          "base_uri": "https://localhost:8080/"
        }
      },
      "execution_count": 68,
      "outputs": [
        {
          "output_type": "stream",
          "name": "stdout",
          "text": [
            "Heating Off\n"
          ]
        }
      ]
    },
    {
      "cell_type": "markdown",
      "metadata": {
        "id": "HvZXBwvn8A2S"
      },
      "source": [
        "12. The function zip(list1, list2) returns a list of tuples, where the i-th tuple contains the i-th element from each of the argument lists. Use the zip function to create the following list of tuples: <br>\n",
        "```\n",
        "zipped = [('Parking', -1), ('Shops',0), ('Food Court',1), ('Offices',2)]\n",
        "```"
      ]
    },
    {
      "cell_type": "code",
      "source": [
        "locations = ['Parking', 'Shops', 'Food Court', 'Offices']\n",
        "indices = [-1, 0, 1, 2]\n",
        "\n",
        "zipped = list(zip(locations,indices))\n",
        "\n",
        "print(zipped)"
      ],
      "metadata": {
        "id": "In3UYBNOs-43",
        "outputId": "d72c234f-d319-4b29-f7a4-e2d0c4fc4852",
        "colab": {
          "base_uri": "https://localhost:8080/"
        }
      },
      "execution_count": 74,
      "outputs": [
        {
          "output_type": "stream",
          "name": "stdout",
          "text": [
            "[('Parking', -1), ('Shops', 0), ('Food Court', 1), ('Offices', 2)]\n"
          ]
        }
      ]
    },
    {
      "cell_type": "markdown",
      "metadata": {
        "id": "I25Wddbt8A2U"
      },
      "source": [
        "13. Use the zip function and dict() to create a dictionary, elevator_dict, where the keys are the floor types and the values are the corresponding floor number so that:<br>\n",
        "```\n",
        "elevator_dict[-1] = 'Parking'\n",
        "```"
      ]
    },
    {
      "cell_type": "code",
      "metadata": {
        "id": "aalDO_TQ8A2U",
        "outputId": "5a11fb29-0066-4c69-c8a5-a3ffd6a19b9d",
        "colab": {
          "base_uri": "https://localhost:8080/"
        }
      },
      "source": [
        "floor = [-1,'G',1,2,3]\n",
        "area_name = ['Parking','Ground','1st Floor', '2nd Floor', '3rd Floor']\n",
        "elevator_dict = dict(zip(floor,area_name))\n",
        "print(elevator_dict[-1])"
      ],
      "execution_count": 76,
      "outputs": [
        {
          "output_type": "stream",
          "name": "stdout",
          "text": [
            "Parking\n"
          ]
        }
      ]
    },
    {
      "cell_type": "markdown",
      "metadata": {
        "id": "DXXKXxFv8A2V"
      },
      "source": [
        "14. Create an Elevator class. The constructor accepts the list of strings floor_types and the list of integers floor_numbers. The class implements the methods 'ask_which_floor' and 'go_to_floor'. The output of this methods should look as follows:\n",
        "```\n",
        "floor_types = ['Parking', 'Shops', 'Food Court', 'Offices']\n",
        "floors_numbers = range(-1,4)\n",
        "el = Elevator(floor_numbers, floor_types)\n",
        "el.go_to_floor(1)\n",
        "Going to Food Court floor!\n",
        "el.go_to_floor(-2)\n",
        "There is floor number -2 in this building.\n",
        "el.ask_which_floor('Offices')\n",
        "The floor Offices is the number: 2\n",
        "el.ask_which_floor('Swimming Pool')\n",
        "There is no Swimming Pool floor in this building.\n",
        "```"
      ]
    },
    {
      "cell_type": "code",
      "source": [
        "floor_types = ['Parking', 'Shops', 'Food Court', 'Offices']\n",
        "floor_numbers = range(-1,4)\n",
        "el = 'Elevator'\n",
        "\n",
        "floor_dict = dict(zip(floor_numbers,floor_types))\n",
        "\n",
        "print(f\"{el} Go to floor 1\")\n",
        "print(f\"Going to {floor_dict[1]} floor!\")\n",
        "print(f\"{el} Go to floor -2\")\n",
        "print(\"There is floor number -2 in this building.\")\n",
        "print(f\"{el} Ask which floor is {floor_types[3]}\")\n",
        "print(f\"The floor {floor_dict[2]} is the number: 2\")\n",
        "print(f\"{el} Ask which floor ('Swimming Pool')\")\n",
        "print(\"There is no Swimming Pool Floor in this Building\")"
      ],
      "metadata": {
        "id": "2X7dzP8lLpT1",
        "outputId": "637d28cb-424a-4abd-9137-75811ae9f0ca",
        "colab": {
          "base_uri": "https://localhost:8080/"
        }
      },
      "execution_count": 94,
      "outputs": [
        {
          "output_type": "stream",
          "name": "stdout",
          "text": [
            "Elevator Go to floor 1\n",
            "Going to Food Court floor!\n",
            "Elevator Go to floor -2\n",
            "There is floor number -2 in this building.\n",
            "Elevator Ask which floor is Offices\n",
            "The floor Offices is the number: 2\n",
            "Elevator Ask which floor ('Swimming Pool')\n",
            "There is no Swimming Pool Floor in this Building\n"
          ]
        }
      ]
    },
    {
      "cell_type": "code",
      "source": [
        "class Elevator:\n",
        "  def __init__(self,floor_numbers,floor_types):\n",
        "    self.floor_map = dict(zip(floor_numbers,floor_types))\n",
        "    self.floor_number = set(floor_numbers)\n",
        "\n",
        "  def go_to_floor(self,floor_num):\n",
        "    if floor_num in self.floor_map:\n",
        "      floor_type = self.floor_map[floor_num]\n",
        "      print(f\"Going to {floor_type} floor!\")\n",
        "    else:\n",
        "        print(f\"There is no floor no. {floor_num} in this building\")\n",
        "\n",
        "  def ask_which_floor(self,floor_type):\n",
        "    if floor_type in self.floor_map.values():\n",
        "      floor_num = list(self.floor_map.keys())[list(self.floor_map.values()).index(floor_type)]\n",
        "      print(f\"The floor is {floor_type} and number is {floor_num}\")\n",
        "    else:\n",
        "      print(f\"There is no {floor_type} floor in this building. \")\n",
        "\n",
        "floor_types = ['Parking', 'Shops', 'Food Court', 'Offices']\n",
        "floor_numbers = range(-1, 4)\n",
        "\n",
        "el = Elevator(floor_numbers, floor_types)\n",
        "el.go_to_floor(1)\n",
        "el.go_to_floor(-2)\n",
        "el.ask_which_floor('Offices')\n",
        "el.ask_which_floor('Swimming Pool')"
      ],
      "metadata": {
        "id": "gD68ljXZDFtD",
        "outputId": "70128bdc-249d-4476-d4f6-159627be1de5",
        "colab": {
          "base_uri": "https://localhost:8080/"
        }
      },
      "execution_count": 112,
      "outputs": [
        {
          "output_type": "stream",
          "name": "stdout",
          "text": [
            "Going to Food Court floor!\n",
            "There is no floor no. -2 in this building\n",
            "The floor is Offices and number is 2\n",
            "There is no Swimming Pool floor in this building. \n"
          ]
        }
      ]
    },
    {
      "cell_type": "markdown",
      "metadata": {
        "id": "a--gPBSR8A2Z"
      },
      "source": [
        "### Good Job!"
      ]
    }
  ]
}